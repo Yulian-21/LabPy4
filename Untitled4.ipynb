{
  "nbformat": 4,
  "nbformat_minor": 0,
  "metadata": {
    "colab": {
      "name": "Untitled4.ipynb",
      "provenance": [],
      "authorship_tag": "ABX9TyNut3ATXbAIxrU6aRyWlb0c",
      "include_colab_link": true
    },
    "kernelspec": {
      "name": "python3",
      "display_name": "Python 3"
    },
    "language_info": {
      "name": "python"
    }
  },
  "cells": [
    {
      "cell_type": "markdown",
      "metadata": {
        "id": "view-in-github",
        "colab_type": "text"
      },
      "source": [
        "<a href=\"https://colab.research.google.com/github/Yulian-21/LabPy4/blob/master/Untitled4.ipynb\" target=\"_parent\"><img src=\"https://colab.research.google.com/assets/colab-badge.svg\" alt=\"Open In Colab\"/></a>"
      ]
    },
    {
      "cell_type": "code",
      "metadata": {
        "id": "i9YgtP19skRf"
      },
      "source": [
        "import time\n",
        "\n",
        "import numpy as np\n",
        "import matplotlib.pyplot as plt\n",
        "from scipy.misc import derivative\n",
        "\n",
        "\n",
        "def f(x):\n",
        "    return x * x - 5 * x + 5\n",
        "\n",
        "\n",
        "def df(x):\n",
        "    return 2 * x - 5\n",
        "\n",
        "\n",
        "N = 20\n",
        "xx = 0\n",
        "lmd = 0.1\n",
        "\n",
        "x = np.arange(0, 5.0, 0.1)\n",
        "y = [f(i) for i in x]\n",
        "plt.ion()\n",
        "fig, ax = plt.subplots()\n",
        "ax.grid(True)\n",
        "\n",
        "ax.plot(x, y)\n",
        "point = ax.scatter(xx, f(xx), c='red')\n",
        "\n",
        "for i in range(N):\n",
        "    xx = xx - lmd * df(xx)\n",
        "    point.set_offsets([xx, f(xx)])\n",
        "    fig.canvas.draw()\n",
        "    fig.canvas.flush_events()\n",
        "    time.sleep(0.02)\n",
        "\n",
        "plt.ioff()\n",
        "point = ax.scatter(xx, f(xx), c='blue')\n",
        "fig.canvas.draw()\n",
        "plt.show()\n"
      ],
      "execution_count": null,
      "outputs": []
    }
  ]
}